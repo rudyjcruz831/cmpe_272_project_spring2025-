{
  "nbformat": 4,
  "nbformat_minor": 0,
  "metadata": {
    "colab": {
      "provenance": [],
      "authorship_tag": "ABX9TyNXk2gdwYHIXpzh13KUFCKX",
      "include_colab_link": true
    },
    "kernelspec": {
      "name": "python3",
      "display_name": "Python 3"
    },
    "language_info": {
      "name": "python"
    }
  },
  "cells": [
    {
      "cell_type": "markdown",
      "metadata": {
        "id": "view-in-github",
        "colab_type": "text"
      },
      "source": [
        "<a href=\"https://colab.research.google.com/github/rudyjcruz831/cmpe_272_project_spring2025-/blob/main/HousingModel.ipynb\" target=\"_parent\"><img src=\"https://colab.research.google.com/assets/colab-badge.svg\" alt=\"Open In Colab\"/></a>"
      ]
    },
    {
      "cell_type": "code",
      "execution_count": 1,
      "metadata": {
        "colab": {
          "base_uri": "https://localhost:8080/"
        },
        "id": "XBVbh4gfCY1q",
        "outputId": "45ab4ed3-96df-4ac8-eb23-df4dfbcefcde"
      },
      "outputs": [
        {
          "output_type": "stream",
          "name": "stdout",
          "text": [
            "Drive already mounted at /content/drive; to attempt to forcibly remount, call drive.mount(\"/content/drive\", force_remount=True).\n"
          ]
        }
      ],
      "source": [
        "from google.colab import drive\n",
        "\n",
        "drive.mount('/content/drive')\n"
      ]
    },
    {
      "cell_type": "code",
      "source": [
        "import json\n",
        "import pandas as pd\n",
        "\n",
        "file_path = '/content/drive/My Drive/listings2.json'  # Replace with your file path\n",
        "with open(file_path, 'r') as f:\n",
        "    data = json.load(f)\n",
        "\n",
        "dfa = pd.DataFrame(data)  # Convert JSON data to pandas DataFrame"
      ],
      "metadata": {
        "id": "yjXH16WFDAbC"
      },
      "execution_count": 2,
      "outputs": []
    },
    {
      "cell_type": "code",
      "source": [
        "file_path = '/content/drive/My Drive/data.json'  # Replace with your file path\n",
        "with open(file_path, 'r') as f:\n",
        "    data2 = json.load(f)\n",
        "dfb = pd.DataFrame(data)  # Convert JSON data to pandas DataFrame"
      ],
      "metadata": {
        "id": "i4DEcHpLHiYj"
      },
      "execution_count": 3,
      "outputs": []
    },
    {
      "cell_type": "code",
      "source": [
        "df = pd.concat([dfa, dfb], ignore_index=True)"
      ],
      "metadata": {
        "id": "ZY7IgxBMHyLu"
      },
      "execution_count": 4,
      "outputs": []
    },
    {
      "cell_type": "code",
      "source": [
        "display(df)"
      ],
      "metadata": {
        "colab": {
          "base_uri": "https://localhost:8080/",
          "height": 424
        },
        "id": "TETfbEGXpAr4",
        "outputId": "b538e719-0324-4c9c-fee5-a99cfcec5886"
      },
      "execution_count": 5,
      "outputs": [
        {
          "output_type": "display_data",
          "data": {
            "text/plain": [
              "             address  price  beds  baths    area\n",
              "0      Castro Valley   2558     2      1   999.0\n",
              "1         Santa Rosa   1500     1      1  7700.0\n",
              "2      San Francisco   3203     1      1   374.0\n",
              "3          San Mateo   2595     1      1   750.0\n",
              "4         Emeryville   3095     1      1   898.0\n",
              "...              ...    ...   ...    ...     ...\n",
              "19375         Dublin   3117     1      1  1102.0\n",
              "19376     Union City   2605     1      1   906.0\n",
              "19377       San Jose   3395     2      1  1142.0\n",
              "19378       San Jose   2595     1      1   496.0\n",
              "19379        Fremont   2375     1      1   585.0\n",
              "\n",
              "[19380 rows x 5 columns]"
            ],
            "text/html": [
              "\n",
              "  <div id=\"df-bd8e3ae3-331e-4aec-8d55-f3bcb05ece6b\" class=\"colab-df-container\">\n",
              "    <div>\n",
              "<style scoped>\n",
              "    .dataframe tbody tr th:only-of-type {\n",
              "        vertical-align: middle;\n",
              "    }\n",
              "\n",
              "    .dataframe tbody tr th {\n",
              "        vertical-align: top;\n",
              "    }\n",
              "\n",
              "    .dataframe thead th {\n",
              "        text-align: right;\n",
              "    }\n",
              "</style>\n",
              "<table border=\"1\" class=\"dataframe\">\n",
              "  <thead>\n",
              "    <tr style=\"text-align: right;\">\n",
              "      <th></th>\n",
              "      <th>address</th>\n",
              "      <th>price</th>\n",
              "      <th>beds</th>\n",
              "      <th>baths</th>\n",
              "      <th>area</th>\n",
              "    </tr>\n",
              "  </thead>\n",
              "  <tbody>\n",
              "    <tr>\n",
              "      <th>0</th>\n",
              "      <td>Castro Valley</td>\n",
              "      <td>2558</td>\n",
              "      <td>2</td>\n",
              "      <td>1</td>\n",
              "      <td>999.0</td>\n",
              "    </tr>\n",
              "    <tr>\n",
              "      <th>1</th>\n",
              "      <td>Santa Rosa</td>\n",
              "      <td>1500</td>\n",
              "      <td>1</td>\n",
              "      <td>1</td>\n",
              "      <td>7700.0</td>\n",
              "    </tr>\n",
              "    <tr>\n",
              "      <th>2</th>\n",
              "      <td>San Francisco</td>\n",
              "      <td>3203</td>\n",
              "      <td>1</td>\n",
              "      <td>1</td>\n",
              "      <td>374.0</td>\n",
              "    </tr>\n",
              "    <tr>\n",
              "      <th>3</th>\n",
              "      <td>San Mateo</td>\n",
              "      <td>2595</td>\n",
              "      <td>1</td>\n",
              "      <td>1</td>\n",
              "      <td>750.0</td>\n",
              "    </tr>\n",
              "    <tr>\n",
              "      <th>4</th>\n",
              "      <td>Emeryville</td>\n",
              "      <td>3095</td>\n",
              "      <td>1</td>\n",
              "      <td>1</td>\n",
              "      <td>898.0</td>\n",
              "    </tr>\n",
              "    <tr>\n",
              "      <th>...</th>\n",
              "      <td>...</td>\n",
              "      <td>...</td>\n",
              "      <td>...</td>\n",
              "      <td>...</td>\n",
              "      <td>...</td>\n",
              "    </tr>\n",
              "    <tr>\n",
              "      <th>19375</th>\n",
              "      <td>Dublin</td>\n",
              "      <td>3117</td>\n",
              "      <td>1</td>\n",
              "      <td>1</td>\n",
              "      <td>1102.0</td>\n",
              "    </tr>\n",
              "    <tr>\n",
              "      <th>19376</th>\n",
              "      <td>Union City</td>\n",
              "      <td>2605</td>\n",
              "      <td>1</td>\n",
              "      <td>1</td>\n",
              "      <td>906.0</td>\n",
              "    </tr>\n",
              "    <tr>\n",
              "      <th>19377</th>\n",
              "      <td>San Jose</td>\n",
              "      <td>3395</td>\n",
              "      <td>2</td>\n",
              "      <td>1</td>\n",
              "      <td>1142.0</td>\n",
              "    </tr>\n",
              "    <tr>\n",
              "      <th>19378</th>\n",
              "      <td>San Jose</td>\n",
              "      <td>2595</td>\n",
              "      <td>1</td>\n",
              "      <td>1</td>\n",
              "      <td>496.0</td>\n",
              "    </tr>\n",
              "    <tr>\n",
              "      <th>19379</th>\n",
              "      <td>Fremont</td>\n",
              "      <td>2375</td>\n",
              "      <td>1</td>\n",
              "      <td>1</td>\n",
              "      <td>585.0</td>\n",
              "    </tr>\n",
              "  </tbody>\n",
              "</table>\n",
              "<p>19380 rows × 5 columns</p>\n",
              "</div>\n",
              "    <div class=\"colab-df-buttons\">\n",
              "\n",
              "  <div class=\"colab-df-container\">\n",
              "    <button class=\"colab-df-convert\" onclick=\"convertToInteractive('df-bd8e3ae3-331e-4aec-8d55-f3bcb05ece6b')\"\n",
              "            title=\"Convert this dataframe to an interactive table.\"\n",
              "            style=\"display:none;\">\n",
              "\n",
              "  <svg xmlns=\"http://www.w3.org/2000/svg\" height=\"24px\" viewBox=\"0 -960 960 960\">\n",
              "    <path d=\"M120-120v-720h720v720H120Zm60-500h600v-160H180v160Zm220 220h160v-160H400v160Zm0 220h160v-160H400v160ZM180-400h160v-160H180v160Zm440 0h160v-160H620v160ZM180-180h160v-160H180v160Zm440 0h160v-160H620v160Z\"/>\n",
              "  </svg>\n",
              "    </button>\n",
              "\n",
              "  <style>\n",
              "    .colab-df-container {\n",
              "      display:flex;\n",
              "      gap: 12px;\n",
              "    }\n",
              "\n",
              "    .colab-df-convert {\n",
              "      background-color: #E8F0FE;\n",
              "      border: none;\n",
              "      border-radius: 50%;\n",
              "      cursor: pointer;\n",
              "      display: none;\n",
              "      fill: #1967D2;\n",
              "      height: 32px;\n",
              "      padding: 0 0 0 0;\n",
              "      width: 32px;\n",
              "    }\n",
              "\n",
              "    .colab-df-convert:hover {\n",
              "      background-color: #E2EBFA;\n",
              "      box-shadow: 0px 1px 2px rgba(60, 64, 67, 0.3), 0px 1px 3px 1px rgba(60, 64, 67, 0.15);\n",
              "      fill: #174EA6;\n",
              "    }\n",
              "\n",
              "    .colab-df-buttons div {\n",
              "      margin-bottom: 4px;\n",
              "    }\n",
              "\n",
              "    [theme=dark] .colab-df-convert {\n",
              "      background-color: #3B4455;\n",
              "      fill: #D2E3FC;\n",
              "    }\n",
              "\n",
              "    [theme=dark] .colab-df-convert:hover {\n",
              "      background-color: #434B5C;\n",
              "      box-shadow: 0px 1px 3px 1px rgba(0, 0, 0, 0.15);\n",
              "      filter: drop-shadow(0px 1px 2px rgba(0, 0, 0, 0.3));\n",
              "      fill: #FFFFFF;\n",
              "    }\n",
              "  </style>\n",
              "\n",
              "    <script>\n",
              "      const buttonEl =\n",
              "        document.querySelector('#df-bd8e3ae3-331e-4aec-8d55-f3bcb05ece6b button.colab-df-convert');\n",
              "      buttonEl.style.display =\n",
              "        google.colab.kernel.accessAllowed ? 'block' : 'none';\n",
              "\n",
              "      async function convertToInteractive(key) {\n",
              "        const element = document.querySelector('#df-bd8e3ae3-331e-4aec-8d55-f3bcb05ece6b');\n",
              "        const dataTable =\n",
              "          await google.colab.kernel.invokeFunction('convertToInteractive',\n",
              "                                                    [key], {});\n",
              "        if (!dataTable) return;\n",
              "\n",
              "        const docLinkHtml = 'Like what you see? Visit the ' +\n",
              "          '<a target=\"_blank\" href=https://colab.research.google.com/notebooks/data_table.ipynb>data table notebook</a>'\n",
              "          + ' to learn more about interactive tables.';\n",
              "        element.innerHTML = '';\n",
              "        dataTable['output_type'] = 'display_data';\n",
              "        await google.colab.output.renderOutput(dataTable, element);\n",
              "        const docLink = document.createElement('div');\n",
              "        docLink.innerHTML = docLinkHtml;\n",
              "        element.appendChild(docLink);\n",
              "      }\n",
              "    </script>\n",
              "  </div>\n",
              "\n",
              "\n",
              "    <div id=\"df-883162e2-ea4f-4565-a592-ef5e5a346821\">\n",
              "      <button class=\"colab-df-quickchart\" onclick=\"quickchart('df-883162e2-ea4f-4565-a592-ef5e5a346821')\"\n",
              "                title=\"Suggest charts\"\n",
              "                style=\"display:none;\">\n",
              "\n",
              "<svg xmlns=\"http://www.w3.org/2000/svg\" height=\"24px\"viewBox=\"0 0 24 24\"\n",
              "     width=\"24px\">\n",
              "    <g>\n",
              "        <path d=\"M19 3H5c-1.1 0-2 .9-2 2v14c0 1.1.9 2 2 2h14c1.1 0 2-.9 2-2V5c0-1.1-.9-2-2-2zM9 17H7v-7h2v7zm4 0h-2V7h2v10zm4 0h-2v-4h2v4z\"/>\n",
              "    </g>\n",
              "</svg>\n",
              "      </button>\n",
              "\n",
              "<style>\n",
              "  .colab-df-quickchart {\n",
              "      --bg-color: #E8F0FE;\n",
              "      --fill-color: #1967D2;\n",
              "      --hover-bg-color: #E2EBFA;\n",
              "      --hover-fill-color: #174EA6;\n",
              "      --disabled-fill-color: #AAA;\n",
              "      --disabled-bg-color: #DDD;\n",
              "  }\n",
              "\n",
              "  [theme=dark] .colab-df-quickchart {\n",
              "      --bg-color: #3B4455;\n",
              "      --fill-color: #D2E3FC;\n",
              "      --hover-bg-color: #434B5C;\n",
              "      --hover-fill-color: #FFFFFF;\n",
              "      --disabled-bg-color: #3B4455;\n",
              "      --disabled-fill-color: #666;\n",
              "  }\n",
              "\n",
              "  .colab-df-quickchart {\n",
              "    background-color: var(--bg-color);\n",
              "    border: none;\n",
              "    border-radius: 50%;\n",
              "    cursor: pointer;\n",
              "    display: none;\n",
              "    fill: var(--fill-color);\n",
              "    height: 32px;\n",
              "    padding: 0;\n",
              "    width: 32px;\n",
              "  }\n",
              "\n",
              "  .colab-df-quickchart:hover {\n",
              "    background-color: var(--hover-bg-color);\n",
              "    box-shadow: 0 1px 2px rgba(60, 64, 67, 0.3), 0 1px 3px 1px rgba(60, 64, 67, 0.15);\n",
              "    fill: var(--button-hover-fill-color);\n",
              "  }\n",
              "\n",
              "  .colab-df-quickchart-complete:disabled,\n",
              "  .colab-df-quickchart-complete:disabled:hover {\n",
              "    background-color: var(--disabled-bg-color);\n",
              "    fill: var(--disabled-fill-color);\n",
              "    box-shadow: none;\n",
              "  }\n",
              "\n",
              "  .colab-df-spinner {\n",
              "    border: 2px solid var(--fill-color);\n",
              "    border-color: transparent;\n",
              "    border-bottom-color: var(--fill-color);\n",
              "    animation:\n",
              "      spin 1s steps(1) infinite;\n",
              "  }\n",
              "\n",
              "  @keyframes spin {\n",
              "    0% {\n",
              "      border-color: transparent;\n",
              "      border-bottom-color: var(--fill-color);\n",
              "      border-left-color: var(--fill-color);\n",
              "    }\n",
              "    20% {\n",
              "      border-color: transparent;\n",
              "      border-left-color: var(--fill-color);\n",
              "      border-top-color: var(--fill-color);\n",
              "    }\n",
              "    30% {\n",
              "      border-color: transparent;\n",
              "      border-left-color: var(--fill-color);\n",
              "      border-top-color: var(--fill-color);\n",
              "      border-right-color: var(--fill-color);\n",
              "    }\n",
              "    40% {\n",
              "      border-color: transparent;\n",
              "      border-right-color: var(--fill-color);\n",
              "      border-top-color: var(--fill-color);\n",
              "    }\n",
              "    60% {\n",
              "      border-color: transparent;\n",
              "      border-right-color: var(--fill-color);\n",
              "    }\n",
              "    80% {\n",
              "      border-color: transparent;\n",
              "      border-right-color: var(--fill-color);\n",
              "      border-bottom-color: var(--fill-color);\n",
              "    }\n",
              "    90% {\n",
              "      border-color: transparent;\n",
              "      border-bottom-color: var(--fill-color);\n",
              "    }\n",
              "  }\n",
              "</style>\n",
              "\n",
              "      <script>\n",
              "        async function quickchart(key) {\n",
              "          const quickchartButtonEl =\n",
              "            document.querySelector('#' + key + ' button');\n",
              "          quickchartButtonEl.disabled = true;  // To prevent multiple clicks.\n",
              "          quickchartButtonEl.classList.add('colab-df-spinner');\n",
              "          try {\n",
              "            const charts = await google.colab.kernel.invokeFunction(\n",
              "                'suggestCharts', [key], {});\n",
              "          } catch (error) {\n",
              "            console.error('Error during call to suggestCharts:', error);\n",
              "          }\n",
              "          quickchartButtonEl.classList.remove('colab-df-spinner');\n",
              "          quickchartButtonEl.classList.add('colab-df-quickchart-complete');\n",
              "        }\n",
              "        (() => {\n",
              "          let quickchartButtonEl =\n",
              "            document.querySelector('#df-883162e2-ea4f-4565-a592-ef5e5a346821 button');\n",
              "          quickchartButtonEl.style.display =\n",
              "            google.colab.kernel.accessAllowed ? 'block' : 'none';\n",
              "        })();\n",
              "      </script>\n",
              "    </div>\n",
              "\n",
              "  <div id=\"id_12aa38d6-f6d9-47e4-8e6c-76ec8afa0586\">\n",
              "    <style>\n",
              "      .colab-df-generate {\n",
              "        background-color: #E8F0FE;\n",
              "        border: none;\n",
              "        border-radius: 50%;\n",
              "        cursor: pointer;\n",
              "        display: none;\n",
              "        fill: #1967D2;\n",
              "        height: 32px;\n",
              "        padding: 0 0 0 0;\n",
              "        width: 32px;\n",
              "      }\n",
              "\n",
              "      .colab-df-generate:hover {\n",
              "        background-color: #E2EBFA;\n",
              "        box-shadow: 0px 1px 2px rgba(60, 64, 67, 0.3), 0px 1px 3px 1px rgba(60, 64, 67, 0.15);\n",
              "        fill: #174EA6;\n",
              "      }\n",
              "\n",
              "      [theme=dark] .colab-df-generate {\n",
              "        background-color: #3B4455;\n",
              "        fill: #D2E3FC;\n",
              "      }\n",
              "\n",
              "      [theme=dark] .colab-df-generate:hover {\n",
              "        background-color: #434B5C;\n",
              "        box-shadow: 0px 1px 3px 1px rgba(0, 0, 0, 0.15);\n",
              "        filter: drop-shadow(0px 1px 2px rgba(0, 0, 0, 0.3));\n",
              "        fill: #FFFFFF;\n",
              "      }\n",
              "    </style>\n",
              "    <button class=\"colab-df-generate\" onclick=\"generateWithVariable('df')\"\n",
              "            title=\"Generate code using this dataframe.\"\n",
              "            style=\"display:none;\">\n",
              "\n",
              "  <svg xmlns=\"http://www.w3.org/2000/svg\" height=\"24px\"viewBox=\"0 0 24 24\"\n",
              "       width=\"24px\">\n",
              "    <path d=\"M7,19H8.4L18.45,9,17,7.55,7,17.6ZM5,21V16.75L18.45,3.32a2,2,0,0,1,2.83,0l1.4,1.43a1.91,1.91,0,0,1,.58,1.4,1.91,1.91,0,0,1-.58,1.4L9.25,21ZM18.45,9,17,7.55Zm-12,3A5.31,5.31,0,0,0,4.9,8.1,5.31,5.31,0,0,0,1,6.5,5.31,5.31,0,0,0,4.9,4.9,5.31,5.31,0,0,0,6.5,1,5.31,5.31,0,0,0,8.1,4.9,5.31,5.31,0,0,0,12,6.5,5.46,5.46,0,0,0,6.5,12Z\"/>\n",
              "  </svg>\n",
              "    </button>\n",
              "    <script>\n",
              "      (() => {\n",
              "      const buttonEl =\n",
              "        document.querySelector('#id_12aa38d6-f6d9-47e4-8e6c-76ec8afa0586 button.colab-df-generate');\n",
              "      buttonEl.style.display =\n",
              "        google.colab.kernel.accessAllowed ? 'block' : 'none';\n",
              "\n",
              "      buttonEl.onclick = () => {\n",
              "        google.colab.notebook.generateWithVariable('df');\n",
              "      }\n",
              "      })();\n",
              "    </script>\n",
              "  </div>\n",
              "\n",
              "    </div>\n",
              "  </div>\n"
            ],
            "application/vnd.google.colaboratory.intrinsic+json": {
              "type": "dataframe",
              "variable_name": "df",
              "summary": "{\n  \"name\": \"df\",\n  \"rows\": 19380,\n  \"fields\": [\n    {\n      \"column\": \"address\",\n      \"properties\": {\n        \"dtype\": \"category\",\n        \"num_unique_values\": 173,\n        \"samples\": [\n          \"Inverness\",\n          \"Pleasant Hill\",\n          \"Belvedere-Tiburon\"\n        ],\n        \"semantic_type\": \"\",\n        \"description\": \"\"\n      }\n    },\n    {\n      \"column\": \"price\",\n      \"properties\": {\n        \"dtype\": \"number\",\n        \"std\": 508971,\n        \"min\": 0,\n        \"max\": 40000000,\n        \"num_unique_values\": 2005,\n        \"samples\": [\n          3776,\n          1410,\n          2360\n        ],\n        \"semantic_type\": \"\",\n        \"description\": \"\"\n      }\n    },\n    {\n      \"column\": \"beds\",\n      \"properties\": {\n        \"dtype\": \"number\",\n        \"std\": 18,\n        \"min\": 0,\n        \"max\": 1707,\n        \"num_unique_values\": 12,\n        \"samples\": [\n          10,\n          6,\n          2\n        ],\n        \"semantic_type\": \"\",\n        \"description\": \"\"\n      }\n    },\n    {\n      \"column\": \"baths\",\n      \"properties\": {\n        \"dtype\": \"number\",\n        \"std\": 86,\n        \"min\": 1,\n        \"max\": 7940,\n        \"num_unique_values\": 12,\n        \"samples\": [\n          680,\n          7,\n          1\n        ],\n        \"semantic_type\": \"\",\n        \"description\": \"\"\n      }\n    },\n    {\n      \"column\": \"area\",\n      \"properties\": {\n        \"dtype\": \"number\",\n        \"std\": 5721.75518951278,\n        \"min\": 1.0,\n        \"max\": 466092.0,\n        \"num_unique_values\": 1152,\n        \"samples\": [\n          1196.0,\n          1344.0,\n          531.0\n        ],\n        \"semantic_type\": \"\",\n        \"description\": \"\"\n      }\n    }\n  ]\n}"
            }
          },
          "metadata": {}
        }
      ]
    },
    {
      "cell_type": "code",
      "source": [
        "# Remove rows with zeroes in 'price' or 'area'\n",
        "df = df[(df['price'] != 0) & (df['area'] != 0) & (df['beds'] != 0) & (df['baths'] != 0) & (df['address'] != '')]\n"
      ],
      "metadata": {
        "id": "oWFfukaYpk6K"
      },
      "execution_count": 6,
      "outputs": []
    },
    {
      "cell_type": "code",
      "source": [
        "!pip install openai\n",
        "pip show openai\n"
      ],
      "metadata": {
        "colab": {
          "base_uri": "https://localhost:8080/",
          "height": 106
        },
        "collapsed": true,
        "id": "w826HGs1otfs",
        "outputId": "e7308078-9664-4b3a-cfd3-7a8190392f1c"
      },
      "execution_count": 7,
      "outputs": [
        {
          "output_type": "error",
          "ename": "SyntaxError",
          "evalue": "invalid syntax (<ipython-input-7-c903222771f4>, line 2)",
          "traceback": [
            "\u001b[0;36m  File \u001b[0;32m\"<ipython-input-7-c903222771f4>\"\u001b[0;36m, line \u001b[0;32m2\u001b[0m\n\u001b[0;31m    pip show openai\u001b[0m\n\u001b[0m        ^\u001b[0m\n\u001b[0;31mSyntaxError\u001b[0m\u001b[0;31m:\u001b[0m invalid syntax\n"
          ]
        }
      ]
    },
    {
      "cell_type": "markdown",
      "source": [],
      "metadata": {
        "id": "wP6dO_lEkCMO"
      }
    },
    {
      "cell_type": "code",
      "source": [
        "# Get the initial number of entries\n",
        "initial_count = len(df)\n",
        "\n",
        "# Filter out entries with price below 200\n",
        "df = df[df['price'] >= 200]\n",
        "\n",
        "# Calculate the number of entries removed\n",
        "removed_count = initial_count - len(df)\n",
        "\n",
        "# Print the number of entries removed\n",
        "print(f\"Number of entries removed: {removed_count}\")\n",
        "\n",
        "# Get the initial number of entries\n",
        "initial_count = len(df)\n",
        "\n",
        "# Filter out entries with price above 10000\n",
        "df = df[df['price'] <= 10000]\n",
        "\n",
        "# Calculate the number of entries removed\n",
        "removed_count2 = initial_count - len(df)\n",
        "\n",
        "# Print the number of entries removed\n",
        "print(f\"Number of entries removed: {removed_count}\")"
      ],
      "metadata": {
        "colab": {
          "base_uri": "https://localhost:8080/"
        },
        "id": "vTzf9ovkrFJ4",
        "outputId": "688654a2-68a4-451c-c8e7-43515c53ba37"
      },
      "execution_count": 8,
      "outputs": [
        {
          "output_type": "stream",
          "name": "stdout",
          "text": [
            "Number of entries removed: 168\n",
            "Number of entries removed: 168\n"
          ]
        }
      ]
    },
    {
      "cell_type": "code",
      "source": [
        "from scipy import stats\n",
        "import numpy as np\n",
        "def remove_outliers_zscore(df, column, threshold=3):\n",
        "    initial_count = len(df)  # Get the initial count of rows\n",
        "    z = np.abs(stats.zscore(df[column]))\n",
        "    df_out = df[(z < threshold)]\n",
        "    removed_count = initial_count - len(df_out)  # Calculate the difference\n",
        "    print(f\"Number of entries removed: {removed_count}\")  # Print the result\n",
        "    return df_out\n",
        "\n",
        "df = remove_outliers_zscore(df, 'price')"
      ],
      "metadata": {
        "id": "USIsBWPcITBh",
        "colab": {
          "base_uri": "https://localhost:8080/"
        },
        "outputId": "1b734049-0b20-4c4b-e5b9-a672b7b2f925"
      },
      "execution_count": 9,
      "outputs": [
        {
          "output_type": "stream",
          "name": "stdout",
          "text": [
            "Number of entries removed: 266\n"
          ]
        }
      ]
    },
    {
      "cell_type": "code",
      "source": [
        "# Print unique address options\n",
        "from sklearn.preprocessing import LabelEncoder # Import LabelEncoder\n",
        "\n",
        "# Create a LabelEncoder for the 'address' column\n",
        "address_encoder = LabelEncoder()\n",
        "\n",
        "# Fit the encoder on the 'address' column and transform it in the DataFrame\n",
        "df['address_encoded'] = address_encoder.fit_transform(df['address'])\n",
        "\n",
        "unique_addresses = df['address'].unique()\n",
        "print(\"Unique address options:\")\n",
        "count=0\n",
        "for address in unique_addresses:\n",
        "    count+=1\n",
        "    # print(address)\n",
        "print(count)\n",
        "# Print the updated DataFrame (optional)\n",
        "# print(\"\\nDataFrame with encoded address:\")\n",
        "# print(df)"
      ],
      "metadata": {
        "colab": {
          "base_uri": "https://localhost:8080/"
        },
        "id": "2vJXywQ7qKg6",
        "outputId": "eb4593aa-ee3e-421f-d871-559968dc6d35",
        "collapsed": true
      },
      "execution_count": 12,
      "outputs": [
        {
          "output_type": "stream",
          "name": "stdout",
          "text": [
            "Unique address options:\n",
            "152\n"
          ]
        }
      ]
    },
    {
      "cell_type": "code",
      "source": [
        "from sklearn.preprocessing import LabelEncoder\n",
        "from sklearn.model_selection import train_test_split\n",
        "from sklearn.neighbors import KNeighborsRegressor\n",
        "from sklearn.metrics import mean_squared_error\n",
        "import numpy as np\n",
        "\n",
        "df = df.dropna(subset=['price']) # Add this line to drop rows where 'price' is NaN\n",
        "\n",
        "# Features (X) and Target (y)\n",
        "X = df[['address_encoded', 'beds', 'baths', 'area']]\n",
        "y = df['price']\n"
      ],
      "metadata": {
        "id": "2NRWkLD4EwCJ"
      },
      "execution_count": 13,
      "outputs": []
    },
    {
      "cell_type": "code",
      "source": [
        "import pandas as pd\n",
        "import matplotlib.pyplot as plt\n",
        "\n",
        "# Assuming 'df' is your DataFrame\n",
        "df.boxplot(column=['price'])\n",
        "plt.title('Box Plot of Price')\n",
        "plt.ylabel('Price')\n",
        "plt.show()\n",
        "pd.set_option('display.max_rows', None)\n",
        "pd.set_option('display.max_columns', None)\n",
        "\n",
        "# Display the DataFrame\n",
        "display(df)"
      ],
      "metadata": {
        "colab": {
          "base_uri": "https://localhost:8080/",
          "height": 452
        },
        "id": "hjXp9rlKI490",
        "outputId": "9d38e265-ce21-4f43-92b4-4ba8001b7f70",
        "collapsed": true
      },
      "execution_count": 14,
      "outputs": [
        {
          "output_type": "display_data",
          "data": {
            "text/plain": [
              "<Figure size 640x480 with 1 Axes>"
            ],
            "image/png": "[encoded data removed]"
          },
          "metadata": {}
        }
      ]
    },
    {
      "cell_type": "code",
      "source": [
        "# Drop rows with any missing values\n",
        "df = df.dropna()\n",
        "\n",
        "# Drop rows with missing values in 'price' or 'area' columns\n",
        "df = df.dropna(subset=['price', 'area'])\n",
        "\n",
        "# Drop rows where all values are missing\n",
        "df = df.dropna(how='all')\n",
        "\n",
        "# Modify df in place (without creating a new copy)\n",
        "df.dropna(inplace=True)"
      ],
      "metadata": {
        "id": "IHbxaLlgpVul"
      },
      "execution_count": 15,
      "outputs": []
    },
    {
      "cell_type": "code",
      "source": [
        "import xgboost as xgb\n",
        "from sklearn.model_selection import train_test_split\n",
        "from sklearn.metrics import mean_squared_error\n",
        "\n",
        "# Assuming X and y are already defined from previous code\n",
        "\n",
        "# Split data into training and testing sets\n",
        "X_train, X_test, y_train, y_test = train_test_split(X, y, test_size=0.2, random_state=42)\n",
        "\n",
        "# Create an XGBoost regressor\n",
        "xgb_model = xgb.XGBRegressor(objective='reg:squarederror',  # Specify objective for regression\n",
        "                             n_estimators=100,          # Number of boosting rounds (trees)\n",
        "                             learning_rate=0.1,         # Step size shrinkage used in optimization\n",
        "                             max_depth=3)               # Maximum depth of a tree\n",
        "\n",
        "# Train the model\n",
        "xgb_model.fit(X_train, y_train)\n",
        "\n",
        "# Make predictions on the test set\n",
        "y_pred = xgb_model.predict(X_test)\n",
        "\n",
        "# Evaluate the model using RMSE\n",
        "rmse = np.sqrt(mean_squared_error(y_test, y_pred))\n",
        "print(f\"RMSE: {rmse}\")"
      ],
      "metadata": {
        "colab": {
          "base_uri": "https://localhost:8080/"
        },
        "id": "L_3yP6m4tMEp",
        "outputId": "2cd23ac9-6362-4196-905a-c833e8bbe76c"
      },
      "execution_count": 17,
      "outputs": [
        {
          "output_type": "stream",
          "name": "stdout",
          "text": [
            "RMSE: 697.5136647406988\n"
          ]
        }
      ]
    },
    {
      "cell_type": "code",
      "source": [
        "# Assuming you have the address_encoder from your previous code\n",
        "# encoded_address = address_encoder.transform(['95110'])[0]\n",
        "\n",
        "# Create input data\n",
        "input_data = [[56, 1, 1, 700]]  # [address_encoded, beds, baths, area]"
      ],
      "metadata": {
        "id": "0QwED2boteiO"
      },
      "execution_count": 18,
      "outputs": []
    },
    {
      "cell_type": "code",
      "source": [
        "predicted_price = xgb_model.predict(input_data)[0]\n",
        "print(f\"Predicted price: ${predicted_price:.2f}\")"
      ],
      "metadata": {
        "colab": {
          "base_uri": "https://localhost:8080/"
        },
        "id": "SUjqNMmjtj7O",
        "outputId": "19efd83b-1dcc-4c40-9a85-d8279a243cb4"
      },
      "execution_count": 19,
      "outputs": [
        {
          "output_type": "stream",
          "name": "stdout",
          "text": [
            "Predicted price: $2322.38\n"
          ]
        }
      ]
    },
    {
      "source": [
        "from sklearn.metrics import mean_squared_error, r2_score, mean_absolute_error\n",
        "# Calculate Mean Squared Error (MSE)\n",
        "mse = mean_squared_error(y_test, y_pred)\n",
        "\n",
        "# Calculate Root Mean Squared Error (RMSE)\n",
        "rmse = np.sqrt(mse)\n",
        "\n",
        "# Calculate R-squared (R2)\n",
        "r2 = r2_score(y_test, y_pred)\n",
        "\n",
        "# Calculate Mean Absolute Error (MAE)\n",
        "mae = mean_absolute_error(y_test, y_pred)"
      ],
      "cell_type": "code",
      "metadata": {
        "id": "-CVdhoyvHdFG"
      },
      "execution_count": 20,
      "outputs": []
    },
    {
      "source": [
        "print(f\"Mean Squared Error (MSE): {mse}\")\n",
        "print(f\"Root Mean Squared Error (RMSE): {rmse}\")\n",
        "print(f\"R-squared (R2): {r2}\")\n",
        "print(f\"Mean Absolute Error (MAE): {mae}\")"
      ],
      "cell_type": "code",
      "metadata": {
        "colab": {
          "base_uri": "https://localhost:8080/"
        },
        "id": "x0DLB6hOHgPI",
        "outputId": "60078a65-1dfa-4e23-e589-0cc16b13c617"
      },
      "execution_count": 21,
      "outputs": [
        {
          "output_type": "stream",
          "name": "stdout",
          "text": [
            "Mean Squared Error (MSE): 486525.3125\n",
            "Root Mean Squared Error (RMSE): 697.5136647406988\n",
            "R-squared (R2): 0.5189703106880188\n",
            "Mean Absolute Error (MAE): 497.2937927246094\n"
          ]
        }
      ]
    },
    {
      "cell_type": "code",
      "source": [
        "import pandas as pd\n",
        "\n",
        "# Calculate average (mean)\n",
        "average_price = df['price'].mean()\n",
        "low= df['price'].min()\n",
        "# Calculate median\n",
        "median_price = df['price'].median()\n",
        "\n",
        "# Calculate percentile (e.g., 75th percentile)\n",
        "percentile_75 = df['price'].quantile(0.75)\n",
        "\n",
        "# Print the results\n",
        "print(f\"Low Price: {low}\")\n",
        "print(f\"Average Price: {average_price}\")\n",
        "print(f\"Median Price: {median_price}\")\n",
        "print(f\"75th Percentile Price: {percentile_75}\")"
      ],
      "metadata": {
        "colab": {
          "base_uri": "https://localhost:8080/"
        },
        "id": "ybqqXjP9xydW",
        "outputId": "963cecc5-3975-41b7-9b19-8b4baf54cdd1"
      },
      "execution_count": 22,
      "outputs": [
        {
          "output_type": "stream",
          "name": "stdout",
          "text": [
            "Low Price: 200\n",
            "Average Price: 2750.814223101937\n",
            "Median Price: 2650.0\n",
            "75th Percentile Price: 3290.0\n"
          ]
        }
      ]
    },
    {
      "cell_type": "code",
      "source": [
        "!pip install skl2onnx  # Install the missing package\n",
        "!pip install onnxmltools\n",
        "!pip install onnxruntime # Install onnxruntime using pip\n",
        "\n"
      ],
      "metadata": {
        "colab": {
          "base_uri": "https://localhost:8080/"
        },
        "id": "eJZJWqIxuMrV",
        "outputId": "f4ed3cf0-7c1b-4890-ec08-b33d39f6f164"
      },
      "execution_count": 29,
      "outputs": [
        {
          "output_type": "stream",
          "name": "stdout",
          "text": [
            "Requirement already satisfied: skl2onnx in /usr/local/lib/python3.11/dist-packages (1.18.0)\n",
            "Requirement already satisfied: onnx>=1.2.1 in /usr/local/lib/python3.11/dist-packages (from skl2onnx) (1.17.0)\n",
            "Requirement already satisfied: scikit-learn>=1.1 in /usr/local/lib/python3.11/dist-packages (from skl2onnx) (1.6.1)\n",
            "Requirement already satisfied: onnxconverter-common>=1.7.0 in /usr/local/lib/python3.11/dist-packages (from skl2onnx) (1.14.0)\n",
            "Requirement already satisfied: numpy>=1.20 in /usr/local/lib/python3.11/dist-packages (from onnx>=1.2.1->skl2onnx) (2.0.2)\n",
            "Requirement already satisfied: protobuf>=3.20.2 in /usr/local/lib/python3.11/dist-packages (from onnx>=1.2.1->skl2onnx) (3.20.2)\n",
            "Requirement already satisfied: packaging in /usr/local/lib/python3.11/dist-packages (from onnxconverter-common>=1.7.0->skl2onnx) (24.2)\n",
            "Requirement already satisfied: scipy>=1.6.0 in /usr/local/lib/python3.11/dist-packages (from scikit-learn>=1.1->skl2onnx) (1.15.2)\n",
            "Requirement already satisfied: joblib>=1.2.0 in /usr/local/lib/python3.11/dist-packages (from scikit-learn>=1.1->skl2onnx) (1.4.2)\n",
            "Requirement already satisfied: threadpoolctl>=3.1.0 in /usr/local/lib/python3.11/dist-packages (from scikit-learn>=1.1->skl2onnx) (3.6.0)\n",
            "Requirement already satisfied: onnxmltools in /usr/local/lib/python3.11/dist-packages (1.13.0)\n",
            "Requirement already satisfied: numpy in /usr/local/lib/python3.11/dist-packages (from onnxmltools) (2.0.2)\n",
            "Requirement already satisfied: onnx in /usr/local/lib/python3.11/dist-packages (from onnxmltools) (1.17.0)\n",
            "Requirement already satisfied: onnxconverter-common in /usr/local/lib/python3.11/dist-packages (from onnxmltools) (1.14.0)\n",
            "Requirement already satisfied: protobuf>=3.20.2 in /usr/local/lib/python3.11/dist-packages (from onnx->onnxmltools) (3.20.2)\n",
            "Requirement already satisfied: packaging in /usr/local/lib/python3.11/dist-packages (from onnxconverter-common->onnxmltools) (24.2)\n",
            "Collecting onnxruntime\n",
            "  Downloading onnxruntime-1.21.1-cp311-cp311-manylinux_2_27_x86_64.manylinux_2_28_x86_64.whl.metadata (4.5 kB)\n",
            "Collecting coloredlogs (from onnxruntime)\n",
            "  Downloading coloredlogs-15.0.1-py2.py3-none-any.whl.metadata (12 kB)\n",
            "Requirement already satisfied: flatbuffers in /usr/local/lib/python3.11/dist-packages (from onnxruntime) (25.2.10)\n",
            "Requirement already satisfied: numpy>=1.21.6 in /usr/local/lib/python3.11/dist-packages (from onnxruntime) (2.0.2)\n",
            "Requirement already satisfied: packaging in /usr/local/lib/python3.11/dist-packages (from onnxruntime) (24.2)\n",
            "Requirement already satisfied: protobuf in /usr/local/lib/python3.11/dist-packages (from onnxruntime) (3.20.2)\n",
            "Requirement already satisfied: sympy in /usr/local/lib/python3.11/dist-packages (from onnxruntime) (1.13.1)\n",
            "Collecting humanfriendly>=9.1 (from coloredlogs->onnxruntime)\n",
            "  Downloading humanfriendly-10.0-py2.py3-none-any.whl.metadata (9.2 kB)\n",
            "Requirement already satisfied: mpmath<1.4,>=1.1.0 in /usr/local/lib/python3.11/dist-packages (from sympy->onnxruntime) (1.3.0)\n",
            "Downloading onnxruntime-1.21.1-cp311-cp311-manylinux_2_27_x86_64.manylinux_2_28_x86_64.whl (16.0 MB)\n",
            "\u001b[2K   \u001b[90m━━━━━━━━━━━━━━━━━━━━━━━━━━━━━━━━━━━━━━━━\u001b[0m \u001b[32m16.0/16.0 MB\u001b[0m \u001b[31m106.2 MB/s\u001b[0m eta \u001b[36m0:00:00\u001b[0m\n",
            "\u001b[?25hDownloading coloredlogs-15.0.1-py2.py3-none-any.whl (46 kB)\n",
            "\u001b[2K   \u001b[90m━━━━━━━━━━━━━━━━━━━━━━━━━━━━━━━━━━━━━━━━\u001b[0m \u001b[32m46.0/46.0 kB\u001b[0m \u001b[31m3.8 MB/s\u001b[0m eta \u001b[36m0:00:00\u001b[0m\n",
            "\u001b[?25hDownloading humanfriendly-10.0-py2.py3-none-any.whl (86 kB)\n",
            "\u001b[2K   \u001b[90m━━━━━━━━━━━━━━━━━━━━━━━━━━━━━━━━━━━━━━━━\u001b[0m \u001b[32m86.8/86.8 kB\u001b[0m \u001b[31m7.9 MB/s\u001b[0m eta \u001b[36m0:00:00\u001b[0m\n",
            "\u001b[?25hInstalling collected packages: humanfriendly, coloredlogs, onnxruntime\n",
            "Successfully installed coloredlogs-15.0.1 humanfriendly-10.0 onnxruntime-1.21.1\n"
          ]
        }
      ]
    },
    {
      "cell_type": "code",
      "source": [
        "from onnxmltools.convert import convert_xgboost\n",
        "from skl2onnx.common.data_types import FloatTensorType\n",
        "\n",
        "# Set correct feature names for ONNX\n",
        "booster = xgb_model.get_booster()\n",
        "booster.feature_names = [f\"f{i}\" for i in range(X.shape[1])]\n",
        "\n",
        "# Convert to ONNX format\n",
        "initial_type = [('input', FloatTensorType([None, X.shape[1]]))]\n",
        "onnx_model = convert_xgboost(xgb_model, initial_types=initial_type)\n",
        "\n",
        "# Save to file\n",
        "with open(\"xgb_model.onnx\", \"wb\") as f:\n",
        "    f.write(onnx_model.SerializeToString())\n",
        "print(\"✅ Model exported to ONNX as 'xgb_model.onnx'\")"
      ],
      "metadata": {
        "colab": {
          "base_uri": "https://localhost:8080/"
        },
        "id": "4hdllt6yuago",
        "outputId": "fc9aaa38-251f-40b0-97d7-afe480fc7e68"
      },
      "execution_count": 30,
      "outputs": [
        {
          "output_type": "stream",
          "name": "stdout",
          "text": [
            "✅ Model exported to ONNX as 'xgb_model.onnx'\n"
          ]
        }
      ]
    },
    {
      "cell_type": "code",
      "source": [
        "import onnxruntime as ort\n",
        "import numpy as np\n",
        "\n",
        "# Start ONNX runtime session\n",
        "session = ort.InferenceSession(\"xgb_model.onnx\")\n",
        "\n",
        "# Get the input name for the ONNX model\n",
        "input_name = session.get_inputs()[0].name\n",
        "\n",
        "# Prepare input data as float32 numpy array\n",
        "input_data = np.array([[43, 1, 1, 700]], dtype=np.float32)\n",
        "\n",
        "# Run inference\n",
        "output = session.run(None, {input_name: input_data})\n",
        "\n",
        "predicted_price = float(output[0][0])\n",
        "print(f\"Predicted price: ${predicted_price:.2f}\")\n"
      ],
      "metadata": {
        "colab": {
          "base_uri": "https://localhost:8080/"
        },
        "id": "rWRAUpqtxsfa",
        "outputId": "dbe7a9c5-72c8-43e3-82ad-13ccfd7d05af"
      },
      "execution_count": 32,
      "outputs": [
        {
          "output_type": "stream",
          "name": "stdout",
          "text": [
            "Predicted price: $2225.37\n"
          ]
        },
        {
          "output_type": "stream",
          "name": "stderr",
          "text": [
            "<ipython-input-32-ef6d811acf95>:16: DeprecationWarning: Conversion of an array with ndim > 0 to a scalar is deprecated, and will error in future. Ensure you extract a single element from your array before performing this operation. (Deprecated NumPy 1.25.)\n",
            "  predicted_price = float(output[0][0])\n"
          ]
        }
      ]
    },
    {
      "cell_type": "markdown",
      "source": [
        "\n",
        "\n",
        "# Linear Regression Implementation\n",
        "\n"
      ],
      "metadata": {
        "id": "Kku3BVyfs6KU"
      }
    },
    {
      "source": [
        "from sklearn.linear_model import LinearRegression\n",
        "from sklearn.model_selection import train_test_split\n",
        "from sklearn.metrics import mean_squared_error, r2_score"
      ],
      "cell_type": "code",
      "metadata": {
        "id": "_C7fECZmHxyO"
      },
      "execution_count": null,
      "outputs": []
    },
    {
      "source": [
        "# Create a Linear Regression model\n",
        "model = LinearRegression()\n",
        "\n",
        "# Train the model on the training data\n",
        "model.fit(X_train, y_train)"
      ],
      "cell_type": "code",
      "metadata": {
        "id": "ZJvVyzheHza0"
      },
      "execution_count": null,
      "outputs": []
    },
    {
      "cell_type": "markdown",
      "source": [
        "# K Nearest Neighbors Implementation\n",
        "\n",
        "\n",
        "\n",
        "\n"
      ],
      "metadata": {
        "id": "_dt9nvejqxEI"
      }
    },
    {
      "cell_type": "code",
      "source": [
        "\n",
        "# Create and train the KNN model\n",
        "model = KNeighborsRegressor(n_neighbors=5)  # You can adjust the number of neighbors (k)\n",
        "model.fit(X_train, y_train)\n",
        "\n",
        "# Make predictions\n",
        "y_pred = model.predict(X_test)\n",
        "\n",
        "# Evaluate the model (e.g., using RMSE)\n",
        "rmse = np.sqrt(mean_squared_error(y_test, y_pred))\n",
        "print(f\"RMSE: {rmse}\") # To see the output, run the code.\n",
        "\n"
      ],
      "metadata": {
        "id": "3QnOGo5IDroQ"
      },
      "execution_count": null,
      "outputs": []
    },
    {
      "cell_type": "code",
      "source": [
        "pip install onnxmltools onnxruntime xgboost\n"
      ],
      "metadata": {
        "id": "j-O1cA0LbliJ"
      },
      "execution_count": null,
      "outputs": []
    },
    {
      "cell_type": "code",
      "source": [
        "import onnxmltools\n",
        "import xgboost as xgb\n",
        "from onnxmltools.convert import convert_xgboost\n",
        "from onnxmltools.convert.common.data_types import FloatTensorType\n",
        "\n",
        "initial_type = [('input', FloatTensorType([None, X_train.shape[1]]))]\n",
        "\n",
        "# Convert\n",
        "onnx_model = convert_xgboost(xgb_model, initial_types=initial_type)\n",
        "\n",
        "# Save to file\n",
        "with open(\"xgb_model.onnx\", \"wb\") as f:\n",
        "    f.write(onnx_model.SerializeToString())\n"
      ],
      "metadata": {
        "id": "BdxdeuQFbzql"
      },
      "execution_count": null,
      "outputs": []
    },
    {
      "source": [
        "import onnxruntime as rt\n",
        "from skl2onnx import convert_sklearn\n",
        "from skl2onnx.common.data_types import FloatTensorType\n",
        "\n",
        "# Define the input data type for the ONNX model\n",
        "initial_type = [('float_input', FloatTensorType([None, X_train.shape[1]]))]\n",
        "\n",
        "# Convert the XGBoost model to ONNX format\n",
        "onx = convert_sklearn(xgb_model, 'xgb_model', initial_types=initial_type)\n",
        "\n",
        "# Save the ONNX model to a file\n",
        "with open(\"xg_model.onnx\", \"wb\") as f:\n",
        "    f.write(onx.SerializeToString())"
      ],
      "cell_type": "code",
      "metadata": {
        "id": "QcAj7WuQL-x4"
      },
      "execution_count": null,
      "outputs": []
    },
    {
      "source": [
        "!pip install onnxruntime\n",
        "import onnxruntime as rt\n",
        "!pip install skl2onnx\n",
        "from skl2onnx import convert_sklearn\n",
        "from skl2onnx.common.data_types import FloatTensorType\n",
        "\n",
        "# Define the input data type for the ONNX model\n",
        "initial_type = [('float_input', FloatTensorType([None, X_train.shape[1]]))]\n",
        "\n",
        "# Convert the XGBoost model to ONNX format\n",
        "onx = convert_sklearn(xgb_model, 'xgb_model', initial_types=initial_type)\n",
        "\n",
        "# Save the ONNX model to a file\n",
        "with open(\"xgboost_model.onnx\", \"wb\") as f:\n",
        "    f.write(onx.SerializeToString())"
      ],
      "cell_type": "code",
      "metadata": {
        "id": "ZweYu3q4MEbY"
      },
      "execution_count": null,
      "outputs": []
    },
    {
      "cell_type": "code",
      "source": [
        "import re\n",
        "\n",
        "def extract_city(text):\n",
        "  # Define regex patterns to match city names in different formats\n",
        "  pattern1 = r\"city of ([a-zA-Z]+),\"  # Matches \"city of [City Name],\"\n",
        "  pattern2 = r\"is in ([a-zA-Z]+),\"  # Matches \"is in [City Name],\"\n",
        "  pattern3 = r\"is in ([a-zA-Z\\s]+)\" # Matches \"is in [City Name] [State]\"\n",
        "\n",
        "  # Try to find a match using the patterns\n",
        "  match = re.search(pattern1, text) or re.search(pattern2, text) or re.search(pattern3, text)\n",
        "\n",
        "  # If a match is found, extract the city name\n",
        "  if match:\n",
        "    city_name = match.group(1)\n",
        "    # Remove trailing spaces and commas if present\n",
        "    city_name = city_name.strip().rstrip(\",\")\n",
        "    return city_name\n",
        "  else:\n",
        "    return None  # Or handle the case where no city is found\n",
        "\n",
        "# Example usage\n",
        "sentences = [\n",
        "    \"Zip code 94538 is in the city of Fremont, located in Alameda County, California.\",\n",
        "    \"Zip code 94124 is in San Francisco, California\"\n",
        "]\n",
        "\n",
        "for sentence in df['city'].unique():\n",
        "  city = extract_city(sentence)\n",
        "  print(f\"City: {city}\")"
      ],
      "metadata": {
        "id": "jgTGRGuKsV5n"
      },
      "execution_count": null,
      "outputs": []
    },
    {
      "source": [
        "from sklearn.preprocessing import LabelEncoder\n",
        "from sklearn.model_selection import train_test_split\n",
        "from sklearn.neighbors import KNeighborsRegressor\n",
        "from sklearn.metrics import mean_squared_error\n",
        "import numpy as np\n",
        "\n",
        "df = df.dropna(subset=['price']) # Add this line to drop rows where 'price' is NaN\n",
        "\n",
        "# Features (X) and Target (y)\n",
        "X = df[['address', 'beds', 'baths', 'area']]\n",
        "y = df['price']\n",
        "\n",
        "# Create a LabelEncoder for the 'address' column\n",
        "address_encoder = LabelEncoder()\n",
        "\n",
        "# Fit the encoder on the 'address' column and transform it using .loc\n",
        "X.loc[:, 'address_encoded'] = address_encoder.fit_transform(X['address'])\n",
        "\n",
        "# Drop the original 'address' column (optional but recommended)\n",
        "X = X.drop('address', axis=1)\n",
        "\n",
        "# Features (X) and Target (y)\n",
        "X = X[['address_encoded', 'beds', 'baths', 'area']]  # Use the encoded address\n",
        "y = df['price']"
      ],
      "cell_type": "code",
      "metadata": {
        "id": "ZS-6lJzjsUq1",
        "collapsed": true
      },
      "execution_count": null,
      "outputs": []
    },
    {
      "cell_type": "code",
      "source": [
        "unique_addresses = df['address'].unique()\n",
        "city_mapping = {}  # Create a dictionary to store address-city mappings\n",
        "\n",
        "for address in unique_addresses:\n",
        "    city_mapping[address] = get_city_name(address)\n",
        "\n",
        "# Now you have a dictionary 'city_mapping' where:\n",
        "# - Keys are the unique addresses\n",
        "# - Values are the corresponding city names obtained from OpenAI API\n",
        "\n",
        "# Add a new 'city' column to the DataFrame using the mapping:\n",
        "df['city'] = df['address'].map(city_mapping)"
      ],
      "metadata": {
        "id": "bTS4kJHxqQz9"
      },
      "execution_count": null,
      "outputs": []
    },
    {
      "source": [
        "from sklearn.impute import SimpleImputer\n",
        "from sklearn.model_selection import train_test_split\n",
        "\n",
        "\n",
        "# Split data into training and testing sets\n",
        "X_train, X_test, y_train, y_test = train_test_split(X, y, test_size=0.2, random_state=42)\n",
        "\n",
        "# # Create an imputer to replace missing values with the most frequent value\n",
        "# imputer = SimpleImputer(strategy='most_frequent')\n",
        "\n",
        "# # Fit the imputer on the training data and transform both training and testing data\n",
        "# X_train = imputer.fit_transform(X_train)\n",
        "# X_test = imputer.transform(X_test)\n",
        "\n"
      ],
      "cell_type": "code",
      "metadata": {
        "id": "NZwNbjmgFfo_"
      },
      "execution_count": null,
      "outputs": []
    },
    {
      "cell_type": "code",
      "source": [
        "display(df['city'])\n",
        "df['city'].unique()"
      ],
      "metadata": {
        "collapsed": true,
        "id": "k8S_oFdswm4N"
      },
      "execution_count": null,
      "outputs": []
    }
  ]
}